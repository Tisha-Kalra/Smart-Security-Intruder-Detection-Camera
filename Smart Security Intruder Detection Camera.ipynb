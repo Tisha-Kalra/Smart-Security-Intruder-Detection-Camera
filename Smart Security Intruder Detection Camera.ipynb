{
 "cells": [
  {
   "cell_type": "code",
   "execution_count": 2,
   "id": "91a04a35",
   "metadata": {},
   "outputs": [],
   "source": [
    "import cv2\n",
    "import numpy as np"
   ]
  },
  {
   "cell_type": "code",
   "execution_count": 3,
   "id": "32c41ef5",
   "metadata": {},
   "outputs": [],
   "source": [
    "import cv2 \n",
    "import numpy as np\n",
    "import winsound\n",
    "#getting a video capture object for the camera\n",
    "cam= cv2.VideoCapture(0)\n",
    "cam.set(3,640)\n",
    "cam.set(4,480)\n",
    "#read the camera\n",
    "while True:\n",
    "    success, frame1=cam.read()\n",
    "    success, frame2=cam.read()\n",
    "    diff = cv2.absdiff(frame1,frame2)\n",
    "    gray = cv2.cvtColor(diff,cv2.COLOR_RGB2GRAY)\n",
    "    blur = cv2.GaussianBlur(gray,(3,3),0)\n",
    "# Blurring is really useful for eliminating small variations or \n",
    "# noise that might hurt the results of other operations like edge detection, \n",
    "# contour finding, etc.\n",
    " \n",
    "    _ ,thresh = cv2.threshold(blur,20,255,cv2.THRESH_BINARY)\n",
    "    dilated = cv2.dilate(thresh,(3,3),iterations=3)\n",
    "    contours, _ = cv2.findContours(dilated,cv2.RETR_TREE,cv2.CHAIN_APPROX_SIMPLE)\n",
    "    #cv2.drawContours(frame1,contours,-1,(0,255,0),2)\n",
    "    #for ignoring small objects\n",
    "    for c in contours:\n",
    "        if cv2.contourArea(c)<5000:\n",
    "            continue\n",
    "        x,y,w,h = cv2.boundingRect(c)\n",
    "        cv2.rectangle(frame1,(x,y),(x+w,y+h),(0,255,0),2)\n",
    "        winsound.Beep(500,200)\n",
    "    if cv2.waitKey(10) & 0xFF==ord('t'):\n",
    "         break\n",
    "    cv2.imshow(\"Security cam\",frame1)\n",
    "#the 't' button is set as the quitting button \n",
    "\n",
    "\n",
    "\n",
    "  "
   ]
  }
 ],
 "metadata": {
  "kernelspec": {
   "display_name": "Python 3 (ipykernel)",
   "language": "python",
   "name": "python3"
  },
  "language_info": {
   "codemirror_mode": {
    "name": "ipython",
    "version": 3
   },
   "file_extension": ".py",
   "mimetype": "text/x-python",
   "name": "python",
   "nbconvert_exporter": "python",
   "pygments_lexer": "ipython3",
   "version": "3.9.7"
  }
 },
 "nbformat": 4,
 "nbformat_minor": 5
}
